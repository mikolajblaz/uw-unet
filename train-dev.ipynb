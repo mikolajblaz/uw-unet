{
 "cells": [
  {
   "cell_type": "code",
   "execution_count": 4,
   "metadata": {},
   "outputs": [
    {
     "name": "stdout",
     "output_type": "stream",
     "text": [
      "The autoreload extension is already loaded. To reload it, use:\n",
      "  %reload_ext autoreload\n"
     ]
    }
   ],
   "source": [
    "import tensorflow as tf\n",
    "\n",
    "%load_ext autoreload"
   ]
  },
  {
   "cell_type": "code",
   "execution_count": 31,
   "metadata": {},
   "outputs": [],
   "source": [
    "%autoreload\n",
    "from unet import UnetTrainer\n",
    "import data\n",
    "import config\n",
    "\n",
    "trainer = UnetTrainer()"
   ]
  },
  {
   "cell_type": "code",
   "execution_count": 32,
   "metadata": {},
   "outputs": [
    {
     "name": "stdout",
     "output_type": "stream",
     "text": [
      "Going down\n",
      "shape (?, 572, 572, 1)\n",
      "shape (?, 572, 572, 64)\n",
      "shape (?, 286, 286, 64)\n",
      "Going up\n",
      "shape (?, 286, 286, 128)\n",
      "Upscaled layer shape: (?, 572, 572, 64)\n",
      "Previous layer shape: (?, 572, 572, 64)\n",
      "shape (?, 572, 572, 128)\n",
      "shape (?, 572, 572, 64)\n",
      "shape (?, 572, 572, 65)\n",
      "list of variables ['conv2d/kernel:0', 'conv2d/bias:0', 'conv2d_1/kernel:0', 'conv2d_1/bias:0', 'conv2d_2/kernel:0', 'conv2d_2/bias:0', 'conv2d_3/kernel:0', 'conv2d_3/bias:0', 'conv2d_transpose/kernel:0', 'conv2d_transpose/bias:0', 'conv2d_4/kernel:0', 'conv2d_4/bias:0', 'conv2d_5/kernel:0', 'conv2d_5/bias:0', 'conv2d_6/kernel:0', 'conv2d_6/bias:0', 'conv2d/kernel/Momentum:0', 'conv2d/bias/Momentum:0', 'conv2d_1/kernel/Momentum:0', 'conv2d_1/bias/Momentum:0', 'conv2d_2/kernel/Momentum:0', 'conv2d_2/bias/Momentum:0', 'conv2d_3/kernel/Momentum:0', 'conv2d_3/bias/Momentum:0', 'conv2d_transpose/kernel/Momentum:0', 'conv2d_transpose/bias/Momentum:0', 'conv2d_4/kernel/Momentum:0', 'conv2d_4/bias/Momentum:0', 'conv2d_5/kernel/Momentum:0', 'conv2d_5/bias/Momentum:0', 'conv2d_6/kernel/Momentum:0', 'conv2d_6/bias/Momentum:0']\n",
      "dataset_subset/training/images/ dataset_subset/training/labels/\n",
      "Batches: (3, 572, 572, 1) (3, 572, 572, 1)\n"
     ]
    },
    {
     "ename": "ValueError",
     "evalue": "Cannot feed value of shape (3, 572, 572, 1) for Tensor 'y_target:0', which has shape '(?, 572, 572, 65)'",
     "output_type": "error",
     "traceback": [
      "\u001b[0;31m---------------------------------------------------------------------------\u001b[0m",
      "\u001b[0;31mValueError\u001b[0m                                Traceback (most recent call last)",
      "\u001b[0;32m<ipython-input-32-d36e53994329>\u001b[0m in \u001b[0;36m<module>\u001b[0;34m()\u001b[0m\n\u001b[1;32m      1\u001b[0m \u001b[0mtf\u001b[0m\u001b[0;34m.\u001b[0m\u001b[0mreset_default_graph\u001b[0m\u001b[0;34m(\u001b[0m\u001b[0;34m)\u001b[0m\u001b[0;34m\u001b[0m\u001b[0m\n\u001b[0;32m----> 2\u001b[0;31m \u001b[0mtrainer\u001b[0m\u001b[0;34m.\u001b[0m\u001b[0mtrain\u001b[0m\u001b[0;34m(\u001b[0m\u001b[0;36m1\u001b[0m\u001b[0;34m)\u001b[0m\u001b[0;34m\u001b[0m\u001b[0m\n\u001b[0m",
      "\u001b[0;32m~/uw/dl/zad2/unet.py\u001b[0m in \u001b[0;36mtrain\u001b[0;34m(self, batches_n, mb_size, dir_base, save_path)\u001b[0m\n\u001b[1;32m    177\u001b[0m                     \u001b[0mprint\u001b[0m\u001b[0;34m(\u001b[0m\u001b[0;34m'Batches:'\u001b[0m\u001b[0;34m,\u001b[0m \u001b[0mbatch_xs\u001b[0m\u001b[0;34m.\u001b[0m\u001b[0mshape\u001b[0m\u001b[0;34m,\u001b[0m \u001b[0mbatch_ys\u001b[0m\u001b[0;34m.\u001b[0m\u001b[0mshape\u001b[0m\u001b[0;34m)\u001b[0m\u001b[0;34m\u001b[0m\u001b[0m\n\u001b[1;32m    178\u001b[0m                     \u001b[0;31m# TODO: batch_xs -> batch_ys !!!!!!!!!!!\u001b[0m\u001b[0;34m\u001b[0m\u001b[0;34m\u001b[0m\u001b[0m\n\u001b[0;32m--> 179\u001b[0;31m                     \u001b[0mvloss\u001b[0m \u001b[0;34m=\u001b[0m \u001b[0mself\u001b[0m\u001b[0;34m.\u001b[0m\u001b[0mtrain_on_batch\u001b[0m\u001b[0;34m(\u001b[0m\u001b[0mbatch_xs\u001b[0m\u001b[0;34m,\u001b[0m \u001b[0mbatch_ys\u001b[0m\u001b[0;34m)\u001b[0m\u001b[0;34m\u001b[0m\u001b[0m\n\u001b[0m\u001b[1;32m    180\u001b[0m                     \u001b[0mlogs\u001b[0m\u001b[0;34m(\u001b[0m\u001b[0msummary_writer\u001b[0m\u001b[0;34m,\u001b[0m \u001b[0mvloss\u001b[0m\u001b[0;34m,\u001b[0m \u001b[0;34m[\u001b[0m\u001b[0;34m'loss'\u001b[0m\u001b[0;34m,\u001b[0m \u001b[0;34m'acc'\u001b[0m\u001b[0;34m]\u001b[0m\u001b[0;34m,\u001b[0m \u001b[0mbatch_idx\u001b[0m\u001b[0;34m)\u001b[0m\u001b[0;34m\u001b[0m\u001b[0m\n\u001b[1;32m    181\u001b[0m                     \u001b[0mlosses\u001b[0m\u001b[0;34m.\u001b[0m\u001b[0mappend\u001b[0m\u001b[0;34m(\u001b[0m\u001b[0mvloss\u001b[0m\u001b[0;34m)\u001b[0m\u001b[0;34m\u001b[0m\u001b[0m\n",
      "\u001b[0;32m~/uw/dl/zad2/unet.py\u001b[0m in \u001b[0;36mtrain_on_batch\u001b[0;34m(self, batch_xs, batch_ys)\u001b[0m\n\u001b[1;32m     45\u001b[0m     \u001b[0;32mdef\u001b[0m \u001b[0mtrain_on_batch\u001b[0m\u001b[0;34m(\u001b[0m\u001b[0mself\u001b[0m\u001b[0;34m,\u001b[0m \u001b[0mbatch_xs\u001b[0m\u001b[0;34m,\u001b[0m \u001b[0mbatch_ys\u001b[0m\u001b[0;34m)\u001b[0m\u001b[0;34m:\u001b[0m\u001b[0;34m\u001b[0m\u001b[0m\n\u001b[1;32m     46\u001b[0m         results = self.sess.run([self.train_step, self.loss, self.accuracy],\n\u001b[0;32m---> 47\u001b[0;31m                                 feed_dict={self.x: batch_xs, self.y_target: batch_ys})\n\u001b[0m\u001b[1;32m     48\u001b[0m         \u001b[0;32mreturn\u001b[0m \u001b[0mresults\u001b[0m\u001b[0;34m[\u001b[0m\u001b[0;36m1\u001b[0m\u001b[0;34m:\u001b[0m\u001b[0;34m]\u001b[0m\u001b[0;34m\u001b[0m\u001b[0m\n\u001b[1;32m     49\u001b[0m \u001b[0;34m\u001b[0m\u001b[0m\n",
      "\u001b[0;32m~/uw/dl/.dl/lib/python3.6/site-packages/tensorflow/python/client/session.py\u001b[0m in \u001b[0;36mrun\u001b[0;34m(self, fetches, feed_dict, options, run_metadata)\u001b[0m\n\u001b[1;32m    898\u001b[0m     \u001b[0;32mtry\u001b[0m\u001b[0;34m:\u001b[0m\u001b[0;34m\u001b[0m\u001b[0m\n\u001b[1;32m    899\u001b[0m       result = self._run(None, fetches, feed_dict, options_ptr,\n\u001b[0;32m--> 900\u001b[0;31m                          run_metadata_ptr)\n\u001b[0m\u001b[1;32m    901\u001b[0m       \u001b[0;32mif\u001b[0m \u001b[0mrun_metadata\u001b[0m\u001b[0;34m:\u001b[0m\u001b[0;34m\u001b[0m\u001b[0m\n\u001b[1;32m    902\u001b[0m         \u001b[0mproto_data\u001b[0m \u001b[0;34m=\u001b[0m \u001b[0mtf_session\u001b[0m\u001b[0;34m.\u001b[0m\u001b[0mTF_GetBuffer\u001b[0m\u001b[0;34m(\u001b[0m\u001b[0mrun_metadata_ptr\u001b[0m\u001b[0;34m)\u001b[0m\u001b[0;34m\u001b[0m\u001b[0m\n",
      "\u001b[0;32m~/uw/dl/.dl/lib/python3.6/site-packages/tensorflow/python/client/session.py\u001b[0m in \u001b[0;36m_run\u001b[0;34m(self, handle, fetches, feed_dict, options, run_metadata)\u001b[0m\n\u001b[1;32m   1109\u001b[0m                              \u001b[0;34m'which has shape %r'\u001b[0m \u001b[0;34m%\u001b[0m\u001b[0;34m\u001b[0m\u001b[0m\n\u001b[1;32m   1110\u001b[0m                              (np_val.shape, subfeed_t.name,\n\u001b[0;32m-> 1111\u001b[0;31m                               str(subfeed_t.get_shape())))\n\u001b[0m\u001b[1;32m   1112\u001b[0m           \u001b[0;32mif\u001b[0m \u001b[0;32mnot\u001b[0m \u001b[0mself\u001b[0m\u001b[0;34m.\u001b[0m\u001b[0mgraph\u001b[0m\u001b[0;34m.\u001b[0m\u001b[0mis_feedable\u001b[0m\u001b[0;34m(\u001b[0m\u001b[0msubfeed_t\u001b[0m\u001b[0;34m)\u001b[0m\u001b[0;34m:\u001b[0m\u001b[0;34m\u001b[0m\u001b[0m\n\u001b[1;32m   1113\u001b[0m             \u001b[0;32mraise\u001b[0m \u001b[0mValueError\u001b[0m\u001b[0;34m(\u001b[0m\u001b[0;34m'Tensor %s may not be fed.'\u001b[0m \u001b[0;34m%\u001b[0m \u001b[0msubfeed_t\u001b[0m\u001b[0;34m)\u001b[0m\u001b[0;34m\u001b[0m\u001b[0m\n",
      "\u001b[0;31mValueError\u001b[0m: Cannot feed value of shape (3, 572, 572, 1) for Tensor 'y_target:0', which has shape '(?, 572, 572, 65)'"
     ]
    }
   ],
   "source": [
    "tf.reset_default_graph()\n",
    "trainer.train(1)"
   ]
  },
  {
   "cell_type": "code",
   "execution_count": 10,
   "metadata": {},
   "outputs": [],
   "source": [
    "from config import NET_INPUT_SIZE\n",
    "self = trainer\n",
    "\n",
    "def create_model():\n",
    "    tf.reset_default_graph()\n",
    "    self.x = tf.placeholder(tf.float32, [None, NET_INPUT_SIZE[0], NET_INPUT_SIZE[1], 1], name='x')\n",
    "    self.y_target = tf.placeholder(tf.float32, [None, NET_INPUT_SIZE[0], NET_INPUT_SIZE[1], 65], name='y_target')\n",
    "\n",
    "    signal = self.x\n",
    "    print_shape = lambda: print('shape', signal.get_shape())\n",
    "\n",
    "    num_filters = 65\n",
    "    kernel_size = 3\n",
    "\n",
    "    # Conv layers\n",
    "    print('Downscaling part')\n",
    "    signal = tf.layers.conv2d(\n",
    "        inputs=signal,\n",
    "        filters=num_filters,\n",
    "        kernel_size=kernel_size,\n",
    "        kernel_initializer=tf.contrib.layers.xavier_initializer(),\n",
    "        name='conv',\n",
    "        padding='SAME'\n",
    "    )\n",
    "    print_shape()\n",
    "    signal = tf.layers.max_pooling2d(signal, pool_size=2, strides=2, name='pool')\n",
    "\n",
    "    print_shape()\n",
    "    signal = tf.layers.conv2d_transpose(\n",
    "        inputs=signal,\n",
    "        filters=num_filters,\n",
    "        strides=2,\n",
    "        kernel_size=kernel_size,\n",
    "        name='conv_transpose',\n",
    "        padding='SAME'\n",
    "    )\n",
    "    print_shape()\n",
    "    return signal"
   ]
  },
  {
   "cell_type": "code",
   "execution_count": 21,
   "metadata": {},
   "outputs": [
    {
     "name": "stdout",
     "output_type": "stream",
     "text": [
      "Downscaling part\n",
      "shape (?, 572, 572, 65)\n",
      "shape (?, 286, 286, 65)\n",
      "shape (?, 572, 572, 65)\n"
     ]
    }
   ],
   "source": [
    "signal = create_model()"
   ]
  },
  {
   "cell_type": "code",
   "execution_count": 22,
   "metadata": {},
   "outputs": [
    {
     "name": "stdout",
     "output_type": "stream",
     "text": [
      "shape (?, 572, 572, 65)\n"
     ]
    }
   ],
   "source": [
    "print_shape = lambda x: print('shape', x.get_shape())\n",
    "print_shape(signal)"
   ]
  },
  {
   "cell_type": "code",
   "execution_count": 48,
   "metadata": {},
   "outputs": [],
   "source": [
    "softmax = tf.nn.softmax_cross_entropy_with_logits_v2(logits=signal, labels=self.y_target)"
   ]
  },
  {
   "cell_type": "code",
   "execution_count": 49,
   "metadata": {},
   "outputs": [
    {
     "name": "stdout",
     "output_type": "stream",
     "text": [
      "(?, 572, 572)\n"
     ]
    }
   ],
   "source": [
    "print(softmax.get_shape())"
   ]
  },
  {
   "cell_type": "code",
   "execution_count": null,
   "metadata": {},
   "outputs": [],
   "source": []
  },
  {
   "cell_type": "markdown",
   "metadata": {},
   "source": [
    "# Softmax"
   ]
  },
  {
   "cell_type": "code",
   "execution_count": 39,
   "metadata": {},
   "outputs": [],
   "source": [
    "logits = tf.constant([1., 2., 3.])\n",
    "labels = tf.constant([0., 1., 0.])\n",
    "soft = tf.nn.softmax(logits)\n",
    "sigm = tf.sigmoid(logits)\n",
    "sigm_cross = tf.nn.sigmoid_cross_entropy_with_logits(logits=logits, labels=labels)\n",
    "soft_cross = tf.nn.softmax_cross_entropy_with_logits_v2(logits=logits, labels=labels)\n",
    "\n",
    "cross = labels * tf.log(soft)\n",
    "mean = - tf.reduce_sum(cross)"
   ]
  },
  {
   "cell_type": "code",
   "execution_count": 40,
   "metadata": {},
   "outputs": [
    {
     "data": {
      "text/plain": [
       "[array([0.09003057, 0.24472848, 0.66524094], dtype=float32),\n",
       " array([0.7310586 , 0.880797  , 0.95257413], dtype=float32),\n",
       " array([1.3132617, 0.126928 , 3.0485873], dtype=float32),\n",
       " 1.4076059,\n",
       " array([-0.       , -1.4076059, -0.       ], dtype=float32),\n",
       " 1.4076059]"
      ]
     },
     "execution_count": 40,
     "metadata": {},
     "output_type": "execute_result"
    }
   ],
   "source": [
    "with tf.Session() as sess:\n",
    "    res = sess.run([soft, sigm, sigm_cross, soft_cross, cross, mean])\n",
    "res"
   ]
  },
  {
   "cell_type": "code",
   "execution_count": 66,
   "metadata": {},
   "outputs": [
    {
     "data": {
      "text/plain": [
       "(2, 4, 3)"
      ]
     },
     "execution_count": 66,
     "metadata": {},
     "output_type": "execute_result"
    }
   ],
   "source": [
    "a = np.asarray([1., 2., 3.])\n",
    "import numpy as np\n",
    "a2 = np.stack([a * i for i in range(1, 5)])\n",
    "a3 = np.stack([a2, a2 * 10])\n",
    "a3.shape"
   ]
  },
  {
   "cell_type": "code",
   "execution_count": 67,
   "metadata": {},
   "outputs": [
    {
     "data": {
      "text/plain": [
       "array([[[  1.,   2.,   3.],\n",
       "        [  2.,   4.,   6.],\n",
       "        [  3.,   6.,   9.],\n",
       "        [  4.,   8.,  12.]],\n",
       "\n",
       "       [[ 10.,  20.,  30.],\n",
       "        [ 20.,  40.,  60.],\n",
       "        [ 30.,  60.,  90.],\n",
       "        [ 40.,  80., 120.]]])"
      ]
     },
     "execution_count": 67,
     "metadata": {},
     "output_type": "execute_result"
    }
   ],
   "source": [
    "a3"
   ]
  },
  {
   "cell_type": "code",
   "execution_count": 68,
   "metadata": {},
   "outputs": [
    {
     "data": {
      "text/plain": [
       "(2, 4, 3)"
      ]
     },
     "execution_count": 68,
     "metadata": {},
     "output_type": "execute_result"
    }
   ],
   "source": [
    "b = np.asarray([0., 1., 0.])\n",
    "bb = np.stack([b] * 4)\n",
    "b3 = np.stack([bb, bb])\n",
    "b3.shape"
   ]
  },
  {
   "cell_type": "code",
   "execution_count": 73,
   "metadata": {},
   "outputs": [],
   "source": [
    "logits = tf.constant(a3)\n",
    "labels = tf.constant(b3)\n",
    "soft = tf.nn.softmax(logits)\n",
    "sigm_cross = tf.nn.sigmoid_cross_entropy_with_logits(logits=logits, labels=labels)\n",
    "soft_cross = tf.nn.softmax_cross_entropy_with_logits_v2(logits=logits, labels=labels)\n",
    "\n",
    "cross = labels * tf.log(soft)\n",
    "mean = - tf.reduce_sum(cross, -1)"
   ]
  },
  {
   "cell_type": "code",
   "execution_count": 74,
   "metadata": {},
   "outputs": [
    {
     "data": {
      "text/plain": [
       "[array([[[9.00305732e-02, 2.44728471e-01, 6.65240956e-01],\n",
       "         [1.58762400e-02, 1.17310428e-01, 8.66813332e-01],\n",
       "         [2.35563308e-03, 4.73141552e-02, 9.50330212e-01],\n",
       "         [3.29320439e-04, 1.79802867e-02, 9.81690393e-01]],\n",
       " \n",
       "        [[2.06106005e-09, 4.53978686e-05, 9.99954600e-01],\n",
       "         [4.24835425e-18, 2.06115362e-09, 9.99999998e-01],\n",
       "         [8.75651076e-27, 9.35762297e-14, 1.00000000e+00],\n",
       "         [1.80485139e-35, 4.24835426e-18, 1.00000000e+00]]]),\n",
       " array([[[1.31326169e+00, 1.26928011e-01, 3.04858735e+00],\n",
       "         [2.12692801e+00, 1.81499279e-02, 6.00247569e+00],\n",
       "         [3.04858735e+00, 2.47568514e-03, 9.00012340e+00],\n",
       "         [4.01814993e+00, 3.35406373e-04, 1.20000061e+01]],\n",
       " \n",
       "        [[1.00000454e+01, 2.06115362e-09, 3.00000000e+01],\n",
       "         [2.00000000e+01, 4.24835426e-18, 6.00000000e+01],\n",
       "         [3.00000000e+01, 8.75651076e-27, 9.00000000e+01],\n",
       "         [4.00000000e+01, 1.80485139e-35, 1.20000000e+02]]]),\n",
       " array([[ 1.40760596,  2.14293163,  3.05094576,  4.0184793 ],\n",
       "        [10.0000454 , 20.        , 30.        , 40.        ]]),\n",
       " array([[[ -0.        ,  -1.40760596,  -0.        ],\n",
       "         [ -0.        ,  -2.14293163,  -0.        ],\n",
       "         [ -0.        ,  -3.05094576,  -0.        ],\n",
       "         [ -0.        ,  -4.0184793 ,  -0.        ]],\n",
       " \n",
       "        [[ -0.        , -10.0000454 ,  -0.        ],\n",
       "         [ -0.        , -20.        ,  -0.        ],\n",
       "         [ -0.        , -30.        ,  -0.        ],\n",
       "         [ -0.        , -40.        ,   0.        ]]]),\n",
       " array([[ 1.40760596,  2.14293163,  3.05094576,  4.0184793 ],\n",
       "        [10.0000454 , 20.        , 30.        , 40.        ]])]"
      ]
     },
     "execution_count": 74,
     "metadata": {},
     "output_type": "execute_result"
    }
   ],
   "source": [
    "with tf.Session() as sess:\n",
    "    res = sess.run([soft, sigm_cross, soft_cross, cross, mean])\n",
    "res"
   ]
  },
  {
   "cell_type": "code",
   "execution_count": 72,
   "metadata": {},
   "outputs": [
    {
     "data": {
      "text/plain": [
       "(2, 4)"
      ]
     },
     "execution_count": 72,
     "metadata": {},
     "output_type": "execute_result"
    }
   ],
   "source": [
    "soft_cross_ = res[2]\n",
    "soft_cross_.shape"
   ]
  },
  {
   "cell_type": "code",
   "execution_count": 81,
   "metadata": {},
   "outputs": [
    {
     "name": "stdout",
     "output_type": "stream",
     "text": [
      "shape (2, 4, 3)\n"
     ]
    },
    {
     "data": {
      "text/plain": [
       "TensorShape([Dimension(2), Dimension(4)])"
      ]
     },
     "execution_count": 81,
     "metadata": {},
     "output_type": "execute_result"
    }
   ],
   "source": [
    "print_shape(logits)\n",
    "tf.argmax(logits, axis=-1).get_shape()"
   ]
  },
  {
   "cell_type": "code",
   "execution_count": null,
   "metadata": {},
   "outputs": [],
   "source": []
  }
 ],
 "metadata": {
  "kernelspec": {
   "display_name": "Python 3",
   "language": "python",
   "name": "python3"
  },
  "language_info": {
   "codemirror_mode": {
    "name": "ipython",
    "version": 3
   },
   "file_extension": ".py",
   "mimetype": "text/x-python",
   "name": "python",
   "nbconvert_exporter": "python",
   "pygments_lexer": "ipython3",
   "version": "3.6.3"
  }
 },
 "nbformat": 4,
 "nbformat_minor": 2
}
